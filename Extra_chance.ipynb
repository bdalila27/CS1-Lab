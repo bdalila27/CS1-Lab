{
  "nbformat": 4,
  "nbformat_minor": 0,
  "metadata": {
    "colab": {
      "name": "Extra chance.ipynb",
      "provenance": [],
      "collapsed_sections": [],
      "authorship_tag": "ABX9TyPi04R7gHXEXg6KjLVYVp5X",
      "include_colab_link": true
    },
    "kernelspec": {
      "name": "python3",
      "display_name": "Python 3"
    }
  },
  "cells": [
    {
      "cell_type": "markdown",
      "metadata": {
        "id": "view-in-github",
        "colab_type": "text"
      },
      "source": [
        "<a href=\"https://colab.research.google.com/github/bdalila27/CS1-Lab/blob/master/Extra_chance.ipynb\" target=\"_parent\"><img src=\"https://colab.research.google.com/assets/colab-badge.svg\" alt=\"Open In Colab\"/></a>"
      ]
    },
    {
      "cell_type": "code",
      "metadata": {
        "id": "Y87pF4Rqzd2F",
        "colab_type": "code",
        "colab": {}
      },
      "source": [
        "# Write a function\n",
        "def is_leap(year): \n",
        "    if(year %4==0): #these 3 loops are conditions for a year to be leap. It will \n",
        "      if(year %100==0): #return true if the year is divisible by 100 and 4, but not multiples of 400.\n",
        "          if(year%400==0):\n",
        "            return True\n",
        "          return False\n",
        "      return True\n",
        "    else:\n",
        "      return False"
      ],
      "execution_count": 0,
      "outputs": []
    },
    {
      "cell_type": "code",
      "metadata": {
        "id": "0-pTbnATrQ4S",
        "colab_type": "code",
        "colab": {}
      },
      "source": [
        "# Word order\n",
        "lst=[]\n",
        "count=1\n",
        "n=int(input())    \n",
        "while len(lst)<n:  #This loop accepts input until its length is equal to n\n",
        "  N=input()\n",
        "  lst.append(N)\n",
        "  count+=1\n",
        "\n",
        "from collections import Counter\n",
        "cnt=Counter()  \n",
        "for i in lst:\n",
        "  cnt[i]+=1\n",
        "\n",
        "print(len(cnt))\n",
        "cnt=dict(cnt)    #counter() function calculates the number of same words and puts them as a value of dict. \n",
        "final=list(cnt.values())\n",
        "for l in range(len(final)):\n",
        "  print(final[l],end=\" \")\n"
      ],
      "execution_count": 0,
      "outputs": []
    },
    {
      "cell_type": "code",
      "metadata": {
        "id": "93i7GVUpR-CS",
        "colab_type": "code",
        "colab": {}
      },
      "source": [
        "# No idea\n",
        "first=input()    #in this code input is the most important part. 2 numbers are \n",
        "f=first.split()  #entered with space. Therefore I used split() function to separate\n",
        "n=int(f[0])      #them\n",
        "m=int(f[1])\n",
        "arr=input()\n",
        "array=arr.split()\n",
        "A=input()\n",
        "aset=set(A.split())\n",
        "B=input()\n",
        "bset=set(B.split())\n",
        "def mood():\n",
        "  happiness=0\n",
        "  for i in array:\n",
        "    if i in aset:\n",
        "      happiness+=1\n",
        "    elif i in bset:\n",
        "      happiness-=1\n",
        "    else:\n",
        "      happiness+=0\n",
        "  return happiness\n",
        "\n",
        "print(mood())"
      ],
      "execution_count": 0,
      "outputs": []
    },
    {
      "cell_type": "code",
      "metadata": {
        "id": "EHZPIElRzxUv",
        "colab_type": "code",
        "outputId": "dc24f9ef-5cb6-44ea-8ec5-47aea6e9323d",
        "colab": {
          "base_uri": "https://localhost:8080/",
          "height": 35
        }
      },
      "source": [
        "#Compress the string\n",
        "s='1222311'\n",
        "grp=[]\n",
        "for i in s[:]:    #We put each integer in the number in list\n",
        "  grp.append(i)\n",
        "import itertools\n",
        "cnt=lambda x: x[0]  #This accesses each element\n",
        "for key,group in itertools.groupby(grp,cnt): \n",
        "  res=len(list(group)),int(key)  #Group shows total number of repeating integers\n",
        "  print(res,end=\" \")  #key shows the repeating integer itself"
      ],
      "execution_count": 0,
      "outputs": [
        {
          "output_type": "stream",
          "text": [
            "(1, 1) (3, 2) (1, 3) (2, 1) "
          ],
          "name": "stdout"
        }
      ]
    },
    {
      "cell_type": "code",
      "metadata": {
        "id": "QOZWRv9UcaI6",
        "colab_type": "code",
        "colab": {}
      },
      "source": [
        "#Validate CC\n",
        "for i in range(int(input())):\n",
        "    a,x,v,r,e,l1=input(),0,0,0,0,[]\n",
        "    if len(a)==16:\n",
        "        for k in a:\n",
        "            if k.isdigit():\n",
        "                x+=1\n",
        "        if x==16 and  a[0] in '456':\n",
        "            print('Valid')\n",
        "        else:\n",
        "            print('Invalid')\n",
        "    else:\n",
        "        for k in a:\n",
        "            if k.isdigit():\n",
        "                x+=1\n",
        "                v+=1\n",
        "                l1.append(k)\n",
        "            if k=='-':\n",
        "                if v!=4:\n",
        "                    r=1\n",
        "                v=0\n",
        "        for q in range(len(l1)-4):\n",
        "            if len(list(set(l1[q:q+4])))==1:\n",
        "                e=1       \n",
        "        if x==16 and a[0] in '456' and r==0 and ' ' not in a and '_' not in a and e==0:\n",
        "            print('Valid')\n",
        "        else:\n",
        "            print('Invalid')\n"
      ],
      "execution_count": 0,
      "outputs": []
    },
    {
      "cell_type": "code",
      "metadata": {
        "id": "xotuq_ifjhEC",
        "colab_type": "code",
        "colab": {}
      },
      "source": [
        ""
      ],
      "execution_count": 0,
      "outputs": []
    }
  ]
}